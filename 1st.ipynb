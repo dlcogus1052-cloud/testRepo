{
 "cells": [
  {
   "cell_type": "code",
   "execution_count": null,
   "id": "33803051",
   "metadata": {
    "vscode": {
     "languageId": "plaintext"
    }
   },
   "outputs": [],
   "source": [
    "print(\"HELLO world\")"
   ]
  }
 ],
 "metadata": {
  "language_info": {
   "name": "python"
  }
 },
 "nbformat": 4,
 "nbformat_minor": 5
}
